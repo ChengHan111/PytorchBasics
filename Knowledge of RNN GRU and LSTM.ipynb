{
 "cells": [
  {
   "cell_type": "code",
   "execution_count": null,
   "metadata": {
    "collapsed": true,
    "pycharm": {
     "name": "#%%\n"
    }
   },
   "outputs": [],
   "source": [
    "# LSTM(LOng Short Term Memory)\n",
    "# GRU(Gated Recurrent Units)\n",
    "They are both the development of RNN(recurrent neural network)\n",
    "In order to solve the vanish gradient. If the gradient shrink to a small value,\n",
    "apparently they cannot contribute to the gradient update much. mean the update\n",
    "doesnot learn. Most of them are used wisely in speech recognition, speech synthesis,\n",
    "test generation and so on.\n",
    "In LSTM we have three gates, forget gate, input gate and output gate. The forget\n",
    "gate decides which value should be kept and which one should be abandoned. By\n",
    "applying a sigmoid function, we can now keep or forget some of the if values:\n",
    "\n",
    "GRU is a newer generation of recurrent neural network and it is pretty similar to\n",
    "LSTM. reset gate and update gate, have less gates and have a better if speed:\n",
    "We usuallt try both methods and compare which one is better."
   ]
  }
 ],
 "metadata": {
  "kernelspec": {
   "display_name": "Python 3",
   "language": "python",
   "name": "python3"
  },
  "language_info": {
   "codemirror_mode": {
    "name": "ipython",
    "version": 2
   },
   "file_extension": ".py",
   "mimetype": "text/x-python",
   "name": "python",
   "nbconvert_exporter": "python",
   "pygments_lexer": "ipython2",
   "version": "2.7.6"
  }
 },
 "nbformat": 4,
 "nbformat_minor": 0
}